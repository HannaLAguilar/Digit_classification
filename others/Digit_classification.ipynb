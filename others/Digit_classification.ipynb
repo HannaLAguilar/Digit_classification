{
 "cells": [
  {
   "cell_type": "code",
   "execution_count": 1,
   "metadata": {},
   "outputs": [],
   "source": [
    "import numpy as np\n",
    "import matplotlib.pyplot as plt\n",
    "import seaborn as sns\n",
    "\n",
    "from torchvision import transforms, datasets\n",
    "from torchvision.datasets import ImageFolder\n",
    "from torch.utils.data import DataLoader, SubsetRandomSampler\n",
    "\n",
    "import torch.nn as nn\n",
    "import torch.nn.functional as F\n",
    "import torch.optim as optim\n",
    "\n",
    "from utils import *"
   ]
  },
  {
   "cell_type": "markdown",
   "metadata": {},
   "source": [
    "# Data"
   ]
  },
  {
   "cell_type": "markdown",
   "metadata": {},
   "source": [
    "## Basic parameters"
   ]
  },
  {
   "cell_type": "code",
   "execution_count": 2,
   "metadata": {},
   "outputs": [],
   "source": [
    "data_path = 'data/'\n",
    "train_ratio = 0.8\n",
    "valid_ratio = 0.2\n",
    "batch_size = 128"
   ]
  },
  {
   "cell_type": "markdown",
   "metadata": {},
   "source": [
    "## Dataset"
   ]
  },
  {
   "cell_type": "code",
   "execution_count": 3,
   "metadata": {},
   "outputs": [],
   "source": [
    "transform = transforms.Compose([transforms.Resize([32, 32]),\n",
    "                                transforms.Grayscale(),\n",
    "                                transforms.RandomHorizontalFlip(),  # data augmentation\n",
    "                                transforms.RandomRotation(10),  # data augmentation\n",
    "                                transforms.ToTensor()])\n",
    "\n",
    "dataset = ImageFolder(data_path, transform=transform)"
   ]
  },
  {
   "cell_type": "code",
   "execution_count": 4,
   "metadata": {},
   "outputs": [
    {
     "name": "stdout",
     "output_type": "stream",
     "text": [
      "Total images: 10160\n",
      "Total classes: 10\n"
     ]
    }
   ],
   "source": [
    "classes = dataset.classes\n",
    "print('Total images:', len(dataset))\n",
    "print('Total classes:', len(classes))"
   ]
  },
  {
   "cell_type": "code",
   "execution_count": 5,
   "metadata": {},
   "outputs": [
    {
     "data": {
      "image/png": "[encoded data removed]",
      "text/plain": [
       "<Figure size 432x288 with 1 Axes>"
      ]
     },
     "metadata": {
      "needs_background": "light"
     },
     "output_type": "display_data"
    }
   ],
   "source": [
    "samples_by_class = num_class(dataset)\n",
    "sns.barplot(x=list(samples_by_class.keys()), y=list(samples_by_class.values()))\n",
    "plt.title('Distribution of classes')\n",
    "plt.xlabel('classes')\n",
    "plt.ylabel('samples');"
   ]
  },
  {
   "cell_type": "markdown",
   "metadata": {},
   "source": [
    "### Split dataset"
   ]
  },
  {
   "cell_type": "code",
   "execution_count": 6,
   "metadata": {},
   "outputs": [
    {
     "name": "stdout",
     "output_type": "stream",
     "text": [
      "Train: 6096\n",
      "Valid: 2032\n",
      "Test: 2032\n"
     ]
    }
   ],
   "source": [
    "train_idx, valid_idx, test_idx = train_valid_test(dataset, train_ratio=0.8, valid_ratio=0.2)\n",
    "train_sampler = SubsetRandomSampler(train_idx)\n",
    "valid_sampler = SubsetRandomSampler(valid_idx)\n",
    "test_sampler = SubsetRandomSampler(test_idx)\n",
    "\n",
    "print('Train:', len(train_sampler))\n",
    "print('Valid:', len(valid_sampler))\n",
    "print('Test:', len(test_sampler))"
   ]
  },
  {
   "cell_type": "markdown",
   "metadata": {},
   "source": [
    "## Dataloaders"
   ]
  },
  {
   "cell_type": "code",
   "execution_count": 7,
   "metadata": {},
   "outputs": [],
   "source": [
    "data_loaders = {\n",
    "    'train': DataLoader(dataset, sampler=train_sampler, batch_size=batch_size),\n",
    "    'valid': DataLoader(dataset, sampler=valid_sampler, batch_size=batch_size),\n",
    "    'test': DataLoader(dataset, sampler=test_sampler, batch_size=batch_size)\n",
    "            }"
   ]
  },
  {
   "cell_type": "markdown",
   "metadata": {},
   "source": [
    "### Visualize img example"
   ]
  },
  {
   "cell_type": "code",
   "execution_count": 8,
   "metadata": {},
   "outputs": [
    {
     "data": {
      "text/plain": [
       "(<Figure size 432x288 with 1 Axes>,\n",
       " <matplotlib.image.AxesImage at 0x1d90d6bc2c8>)"
      ]
     },
     "execution_count": 8,
     "metadata": {},
     "output_type": "execute_result"
    },
    {
     "data": {
      "image/png": "[encoded data removed]",
      "text/plain": [
       "<Figure size 432x288 with 1 Axes>"
      ]
     },
     "metadata": {
      "needs_background": "light"
     },
     "output_type": "display_data"
    }
   ],
   "source": [
    "images, labels = iter(data_loaders['train']).next()\n",
    "images = images.numpy()\n",
    "img = images[0].squeeze()\n",
    "plt.figure(), plt.imshow(img, cmap='gray')"
   ]
  },
  {
   "cell_type": "markdown",
   "metadata": {},
   "source": [
    "# CNN architecture"
   ]
  },
  {
   "cell_type": "code",
   "execution_count": 9,
   "metadata": {},
   "outputs": [],
   "source": [
    "class Classifier(nn.Module):\n",
    "    def __init__(self):\n",
    "        super().__init__()\n",
    "        self.conv1 = nn.Conv2d(1, 16, 5, padding=2)\n",
    "        self.conv2 = nn.Conv2d(16, 32, 5, padding=2)\n",
    "        self.pool = nn.MaxPool2d(2, 2)\n",
    "        self.fc = nn.Linear(8 * 8 * 32, 10)\n",
    "\n",
    "    def forward(self, x):\n",
    "        x = self.pool(F.relu(self.conv1(x)))\n",
    "        x = self.pool(F.relu(self.conv2(x)))\n",
    "        x = x.view(x.size(0), -1)\n",
    "        x = self.fc(x)\n",
    "        return x"
   ]
  },
  {
   "cell_type": "markdown",
   "metadata": {},
   "source": [
    "# Training"
   ]
  },
  {
   "cell_type": "code",
   "execution_count": 10,
   "metadata": {},
   "outputs": [
    {
     "name": "stdout",
     "output_type": "stream",
     "text": [
      "Classifier(\n",
      "  (conv1): Conv2d(1, 16, kernel_size=(5, 5), stride=(1, 1), padding=(2, 2))\n",
      "  (conv2): Conv2d(16, 32, kernel_size=(5, 5), stride=(1, 1), padding=(2, 2))\n",
      "  (pool): MaxPool2d(kernel_size=2, stride=2, padding=0, dilation=1, ceil_mode=False)\n",
      "  (fc): Linear(in_features=2048, out_features=10, bias=True)\n",
      ")\n",
      "Training on cuda\n"
     ]
    }
   ],
   "source": [
    "model = Classifier()\n",
    "print(model)\n",
    "\n",
    "# CPU/GPU settings\n",
    "device = torch.device('cuda:0' if torch.cuda.is_available() else 'cpu')\n",
    "print('Training on {}'.format(device.type))\n",
    "model = model.to(device)"
   ]
  },
  {
   "cell_type": "code",
   "execution_count": 11,
   "metadata": {},
   "outputs": [
    {
     "name": "stdout",
     "output_type": "stream",
     "text": [
      "Epoch: 1/20\n",
      "----------\n",
      "Train loss:1.87  Valid loss:0.891  Valid acc:74.8%\n",
      "\n",
      "Epoch: 2/20\n",
      "----------\n",
      "Train loss:0.604  Valid loss:0.397  Valid acc:88.3%\n",
      "\n",
      "Epoch: 3/20\n",
      "----------\n",
      "Train loss:0.363  Valid loss:0.349  Valid acc:90.0%\n",
      "\n",
      "Epoch: 4/20\n",
      "----------\n",
      "Train loss:0.279  Valid loss:0.258  Valid acc:91.8%\n",
      "\n",
      "Epoch: 5/20\n",
      "----------\n",
      "Train loss:0.243  Valid loss:0.21  Valid acc:94.7%\n",
      "\n",
      "Epoch: 6/20\n",
      "----------\n",
      "Train loss:0.189  Valid loss:0.17  Valid acc:95.4%\n",
      "\n",
      "Epoch: 7/20\n",
      "----------\n",
      "Train loss:0.174  Valid loss:0.185  Valid acc:94.6%\n",
      "\n",
      "Epoch: 8/20\n",
      "----------\n",
      "Train loss:0.165  Valid loss:0.147  Valid acc:95.5%\n",
      "\n",
      "Epoch: 9/20\n",
      "----------\n",
      "Train loss:0.134  Valid loss:0.136  Valid acc:96.5%\n",
      "\n",
      "Epoch: 10/20\n",
      "----------\n",
      "Train loss:0.128  Valid loss:0.122  Valid acc:96.5%\n",
      "\n",
      "Epoch: 11/20\n",
      "----------\n",
      "Train loss:0.121  Valid loss:0.128  Valid acc:96.3%\n",
      "\n",
      "Epoch: 12/20\n",
      "----------\n",
      "Train loss:0.104  Valid loss:0.0985  Valid acc:97.2%\n",
      "\n",
      "Epoch: 13/20\n",
      "----------\n",
      "Train loss:0.0979  Valid loss:0.0965  Valid acc:97.1%\n",
      "\n",
      "Epoch: 14/20\n",
      "----------\n",
      "Train loss:0.0856  Valid loss:0.0962  Valid acc:97.0%\n",
      "\n",
      "Epoch: 15/20\n",
      "----------\n",
      "Train loss:0.0887  Valid loss:0.0937  Valid acc:96.8%\n",
      "\n",
      "Epoch: 16/20\n",
      "----------\n",
      "Train loss:0.0731  Valid loss:0.109  Valid acc:96.6%\n",
      "\n",
      "Epoch: 17/20\n",
      "----------\n",
      "Train loss:0.0736  Valid loss:0.0916  Valid acc:97.4%\n",
      "\n",
      "Epoch: 18/20\n",
      "----------\n",
      "Train loss:0.0709  Valid loss:0.0709  Valid acc:98.2%\n",
      "\n",
      "Epoch: 19/20\n",
      "----------\n",
      "Train loss:0.0673  Valid loss:0.0711  Valid acc:98.0%\n",
      "\n",
      "Epoch: 20/20\n",
      "----------\n",
      "Train loss:0.0596  Valid loss:0.0853  Valid acc:97.4%\n",
      "\n",
      "Training complete in 1m 40s\n"
     ]
    }
   ],
   "source": [
    "epochs = 20\n",
    "learning_rate = 0.01\n",
    "criterion = nn.CrossEntropyLoss()\n",
    "optimizer = optim.SGD(model.parameters(), lr=learning_rate, momentum=0.9)\n",
    "\n",
    "train_loss, valid_loss, valid_acc = train_model(epochs, model, data_loaders, criterion, optimizer, device)"
   ]
  },
  {
   "cell_type": "code",
   "execution_count": 12,
   "metadata": {},
   "outputs": [
    {
     "data": {
      "image/png": "[encoded data removed]",
      "text/plain": [
       "<Figure size 576x288 with 2 Axes>"
      ]
     },
     "metadata": {
      "needs_background": "light"
     },
     "output_type": "display_data"
    }
   ],
   "source": [
    "plt.figure(figsize=(8, 4))\n",
    "plt.subplot(121)\n",
    "plt.plot(train_loss, label='Train loss')\n",
    "plt.plot(valid_loss, label='Valid loss')\n",
    "plt.xlabel('Epoch')\n",
    "plt.ylabel('Loss')\n",
    "plt.legend()\n",
    "\n",
    "plt.subplot(122)\n",
    "plt.plot(valid_acc, label='Valid Accuracy')\n",
    "plt.xlabel('Epoch')\n",
    "plt.ylabel('Accuracy')\n",
    "plt.legend()\n",
    "plt.tight_layout();"
   ]
  },
  {
   "cell_type": "markdown",
   "metadata": {},
   "source": [
    "# Test"
   ]
  },
  {
   "cell_type": "code",
   "execution_count": 13,
   "metadata": {},
   "outputs": [
    {
     "name": "stdout",
     "output_type": "stream",
     "text": [
      "\n",
      "TEST\n",
      "Test accuracy of 0: 99.5%\n",
      "Test accuracy of 1: 96.4%\n",
      "Test accuracy of 2: 99.5%\n",
      "Test accuracy of 3: 98.2%\n",
      "Test accuracy of 4: 99.5%\n",
      "Test accuracy of 5: 96.7%\n",
      "Test accuracy of 6: 99.5%\n",
      "Test accuracy of 7: 99.0%\n",
      "Test accuracy of 8: 93.4%\n",
      "Test accuracy of 9: 98.2%\n",
      "\n",
      "Global accuracy: 98.0%\n"
     ]
    }
   ],
   "source": [
    "state_dict = torch.load('classifier_digit.pt')\n",
    "model.load_state_dict(state_dict)\n",
    "test_acc, class_acc = test_model(classes, model, data_loaders, device)"
   ]
  },
  {
   "cell_type": "code",
   "execution_count": 14,
   "metadata": {},
   "outputs": [
    {
     "data": {
      "image/png": "[encoded data removed]",
      "text/plain": [
       "<Figure size 432x288 with 1 Axes>"
      ]
     },
     "metadata": {
      "needs_background": "light"
     },
     "output_type": "display_data"
    }
   ],
   "source": [
    "sns.barplot(y=classes, x=[ii*100 for ii in class_acc]);"
   ]
  },
  {
   "cell_type": "code",
   "execution_count": null,
   "metadata": {},
   "outputs": [],
   "source": []
  }
 ],
 "metadata": {
  "kernelspec": {
   "display_name": "Python 3",
   "language": "python",
   "name": "python3"
  },
  "language_info": {
   "codemirror_mode": {
    "name": "ipython",
    "version": 3
   },
   "file_extension": ".py",
   "mimetype": "text/x-python",
   "name": "python",
   "nbconvert_exporter": "python",
   "pygments_lexer": "ipython3",
   "version": "3.7.9"
  }
 },
 "nbformat": 4,
 "nbformat_minor": 4
}
